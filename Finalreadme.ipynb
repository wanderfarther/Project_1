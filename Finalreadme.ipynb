{
 "cells": [
  {
   "cell_type": "markdown",
   "id": "4d4bad4f",
   "metadata": {},
   "source": [
    "Nursing Home Quality in Oklahoma\n",
    "\n",
    "The purpose of this analysis was to establish whether a correlation exists between some perceived important measures of care in nursing home facilities and overall (QM)quality measure ratings. We used one dataset from (CMS) Centers for Medicare and Medicaid Services called provider-data to answer this question:\n",
    "Do turnover, time with patients, ownership, and fines affect quality measure ratings of nursing homes?\n",
    "We established 3 intentions or questions to answer the above question:\n",
    "Compare the number of fines and the number of staff on site during the day to see if more staff means less or more fines. \n",
    "Compare the staff-turnover rate and the QM rating. \n",
    "\n",
    "Do the fines correlate to the QM rating and ownership? \n",
    "We focused on 6 measures in the data set that we thought could help answer our questions: RN staffed hours per day, RN staff turnover, number of fines, dollar amount of fines, and ownership types. We then used the QM quality measure rating as an overall reflection of care. According to the CMS, “The Nursing Home Care Compare web site features a quality rating system that gives each nursing home a QM rating of between 1 and 5 stars.  Nursing homes with 5 stars are considered to have much above average quality and nursing homes with 1 star are considered to have quality much below average.”\n",
    "\n",
    "Exploration & Cleaning\n",
    "The provider-data is for the entire United States and was published and released by CMS on Jun 28, 2023. It includes approximately 97 columns of information including basic provider contact information and various ratings for staffing, facility, and health measures. During our exploratory analysis we decided to focus on Oklahoma as opposed to Tulsa because we thought a larger dataset would yield a more interesting analysis. Although our notebook does contain a few analyses on the city of Tulsa out of personal interest. After cleaning empty columns and narrowing our analysis to Oklahoma and in some cases Tulsa we decided to use only 18 columns which included the basic provider data, our measures of interest and the columns closely related to our measures of interest. In total our analysis includes 14 nursing homes in Tulsa and 142 in Oklahoma.\n",
    "\n",
    "Staff Turnover \n",
    "Staff Turnover & QM Rating Linear regression scatterplot:\n",
    "It’s natural to assume that consistencies in staffing would positively affect quality measures because high staff turnover implies a lack of continuity in care. In the case of staff turnover though it seems less obvious. Turnover doesn’t have much if any correlation to the QM rating. We calculated linear regression in this case and the p value. The p value for a linear trend is .34 so there is no linear trend. \n",
    "\n",
    "Staff Hours & QM Rating bar graph:\n",
    "Average time per patient per hour is between 18-25 minutes in all QM categories according to our Staff Hours & QM Rating bar graph which plots this. Therefore, one can likely conclude that regardless of the quality measure rating a facility has the average amount of time RNs spend with patients is not likely to vary considerably. On the box and whisker plot of QM rating vs RN Staffed hours per day analysis the box for 1 is relatively small compared to the other boxes on the chart, which shows that the number of hours a nurse spends with a patient is relatively consistent at a 1 QM Rated nursing home.\n",
    "Staff hours and Fines\n",
    "Bar graph Staffed Nursing Hours vs Total Fines in Oklahoma Nursing Homes:\n",
    "We thought that the fewer average hours spent with a patient would mean that there would be a higher number of fines for the nursing home. This graph shows that homes that have 20 - 30 fines spend about the same amount of time with the patients as a home that has 0 - 6 fines. This shows us that the number of hours spent with a patient doesn't affect the total number of fines received by a nursing home.  \n",
    "\n",
    "Scatter with regression Staffed Nursing Hours vs Total Fines in Tulsa:\n",
    "This graph is specific to Tulsa. We wanted to see if there was a correlation between the number of the staffed Nursing hours to the number of fines a home would get. The correlation between the total fines and the reported RN staffed hours per day is -0.18. This means that there is a weak, negative correlation. The total number of fines is affected negatively based on the total number of hours staffed, but not by a lot. This can be seen by the relatively horizontal linear regression. The p-value of linear trend is 0.54, therefore we can confidently say there is no trend.\n",
    "\n",
    "Bar Average Fines per Quality Measure analysis:\n",
    "We wanted to know if the average number of fines was relevant to the quality measure rating of the nursing homes. This graph seems skewed to the right a bit, with a large jump at the beginning and then a slower slope down as we progress to the right. This means we have a positive skew. This shows us that yes, the average number of fines goes down as the quality measure of the home goes up, but there is an odd phenomenon of the lowest rated homes having about the same average fines as homes with a QM of 4. \n",
    "\n",
    "Ownership\n",
    "We wanted to know the association between the different types of nursing home ownerships and the quality measure rating.\n",
    "Bar graph Ownership Type vs. QM Rating \n",
    "The variance between for-profit subtypes: Corp, individual and LLC is minimal, with partnership sub-type nearly 1 point above the others.  Similarly, there is also a minimal variance between non-profit sub types and “other” while Corp is nearly 1 point higher. \n",
    "\n",
    "Ownership Type vs. Total Fines in Dollars\n",
    "Interestingly, the two government owned subtypes: City and County, had the biggest disparity.  What created such a large gap between quality measures?  One hypothesis could be the higher amount of fines, the lower the QM rating, so a smaller data frame was created to show the ownership type and the number of fines each had.\n",
    "\n",
    "Total Amount of Fines vs QM Rating\n",
    "We then calculated correlation between the quality measure rating and the total amount of fines which came to -0.11; an extremely small negative correlation as the scatter plot shows.  Normally, one would expect the number of fines to decrease as the QM increases, but there are many outliers that do not follow the trend. The hypothesis could not be proven.\n",
    "\n",
    "Conclusion\n",
    "There seem to be no identifiable trends or correlations with staff turnover, RN hours and QM rating. One could hypothesize that facilities likely have systems in place to mitigate or prevent the negative impact of staff turnover on patients. There are likely schedules in place that require RN and patient contact. Perhaps RN education and training as opposed to presence alone could be the reason for an increase in fines? We found a minimal variance in QM ratings with for profit ownership types and a big gap in the quality measure between county and city.  Since there were also only 2 homes that fell in these categories though, the sample size likely wasn’t large enough to arrive at any conclusions.\n",
    "Choosing which indicators are most important in nursing home quality care is a complex topic. We believe it could be more connected to the quality of staff as opposed to more quantitative measures such as turnover and hours, since fines (which ultimately are in part determined by staff decision making) provide the only slight correlation with QM ratings. If given more time this is an area of analysis we’d like to pursue further.\n",
    "\n",
    "\n",
    "\n",
    "\n"
   ]
  }
 ],
 "metadata": {
  "kernelspec": {
   "display_name": "Python 3 (ipykernel)",
   "language": "python",
   "name": "python3"
  },
  "language_info": {
   "codemirror_mode": {
    "name": "ipython",
    "version": 3
   },
   "file_extension": ".py",
   "mimetype": "text/x-python",
   "name": "python",
   "nbconvert_exporter": "python",
   "pygments_lexer": "ipython3",
   "version": "3.10.11"
  }
 },
 "nbformat": 4,
 "nbformat_minor": 5
}
